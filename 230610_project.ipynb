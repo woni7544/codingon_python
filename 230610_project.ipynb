{
 "cells": [
  {
   "cell_type": "code",
   "execution_count": 1,
   "id": "6060a14d-17f5-49e1-811b-71ff8a4995bf",
   "metadata": {},
   "outputs": [],
   "source": [
    "import pandas as pd\n",
    "import numpy as np\n",
    "import seaborn as sns\n",
    "import matplotlib.pyplot as plt\n",
    "import sklearn.metrics as metric\n",
    "import torch\n",
    "import torch.nn as nn\n",
    "from torch.utils.data import DataLoader\n",
    "from torch.utils.data import TensorDataset\n",
    "from sklearn import preprocessing"
   ]
  },
  {
   "cell_type": "code",
   "execution_count": 2,
   "id": "f8d7b587-e21f-40de-9513-871b72ad20bd",
   "metadata": {},
   "outputs": [
    {
     "data": {
      "text/html": [
       "<div>\n",
       "<style scoped>\n",
       "    .dataframe tbody tr th:only-of-type {\n",
       "        vertical-align: middle;\n",
       "    }\n",
       "\n",
       "    .dataframe tbody tr th {\n",
       "        vertical-align: top;\n",
       "    }\n",
       "\n",
       "    .dataframe thead th {\n",
       "        text-align: right;\n",
       "    }\n",
       "</style>\n",
       "<table border=\"1\" class=\"dataframe\">\n",
       "  <thead>\n",
       "    <tr style=\"text-align: right;\">\n",
       "      <th></th>\n",
       "      <th>Machine_Name</th>\n",
       "      <th>Item No</th>\n",
       "      <th>working time</th>\n",
       "      <th>Thickness 1(mm)</th>\n",
       "      <th>Thickness 2(mm)</th>\n",
       "      <th>weld force(bar)</th>\n",
       "      <th>weld current(kA)</th>\n",
       "      <th>weld Voltage(v)</th>\n",
       "      <th>weld time(ms)</th>\n",
       "    </tr>\n",
       "    <tr>\n",
       "      <th>idx</th>\n",
       "      <th></th>\n",
       "      <th></th>\n",
       "      <th></th>\n",
       "      <th></th>\n",
       "      <th></th>\n",
       "      <th></th>\n",
       "      <th></th>\n",
       "      <th></th>\n",
       "      <th></th>\n",
       "    </tr>\n",
       "  </thead>\n",
       "  <tbody>\n",
       "    <tr>\n",
       "      <th>1</th>\n",
       "      <td>Spot-01</td>\n",
       "      <td>65235-25800</td>\n",
       "      <td>2020-03-24</td>\n",
       "      <td>0.7</td>\n",
       "      <td>0.7</td>\n",
       "      <td>2.33</td>\n",
       "      <td>14.57</td>\n",
       "      <td>2.701</td>\n",
       "      <td>72.0</td>\n",
       "    </tr>\n",
       "    <tr>\n",
       "      <th>2</th>\n",
       "      <td>Spot-01</td>\n",
       "      <td>65235-25800</td>\n",
       "      <td>2020-03-24</td>\n",
       "      <td>0.7</td>\n",
       "      <td>0.7</td>\n",
       "      <td>2.36</td>\n",
       "      <td>14.57</td>\n",
       "      <td>2.701</td>\n",
       "      <td>72.0</td>\n",
       "    </tr>\n",
       "    <tr>\n",
       "      <th>3</th>\n",
       "      <td>Spot-01</td>\n",
       "      <td>65235-25800</td>\n",
       "      <td>2020-03-24</td>\n",
       "      <td>0.7</td>\n",
       "      <td>0.7</td>\n",
       "      <td>2.37</td>\n",
       "      <td>14.54</td>\n",
       "      <td>2.703</td>\n",
       "      <td>71.0</td>\n",
       "    </tr>\n",
       "    <tr>\n",
       "      <th>4</th>\n",
       "      <td>Spot-01</td>\n",
       "      <td>65235-25800</td>\n",
       "      <td>2020-03-24</td>\n",
       "      <td>0.7</td>\n",
       "      <td>0.7</td>\n",
       "      <td>2.37</td>\n",
       "      <td>14.54</td>\n",
       "      <td>2.703</td>\n",
       "      <td>72.0</td>\n",
       "    </tr>\n",
       "    <tr>\n",
       "      <th>5</th>\n",
       "      <td>Spot-01</td>\n",
       "      <td>65235-25800</td>\n",
       "      <td>2020-03-24</td>\n",
       "      <td>0.7</td>\n",
       "      <td>0.7</td>\n",
       "      <td>2.36</td>\n",
       "      <td>14.56</td>\n",
       "      <td>2.704</td>\n",
       "      <td>72.0</td>\n",
       "    </tr>\n",
       "  </tbody>\n",
       "</table>\n",
       "</div>"
      ],
      "text/plain": [
       "    Machine_Name      Item No working time  Thickness 1(mm)  Thickness 2(mm)  \\\n",
       "idx                                                                            \n",
       "1        Spot-01  65235-25800   2020-03-24              0.7              0.7   \n",
       "2        Spot-01  65235-25800   2020-03-24              0.7              0.7   \n",
       "3        Spot-01  65235-25800   2020-03-24              0.7              0.7   \n",
       "4        Spot-01  65235-25800   2020-03-24              0.7              0.7   \n",
       "5        Spot-01  65235-25800   2020-03-24              0.7              0.7   \n",
       "\n",
       "     weld force(bar)  weld current(kA)  weld Voltage(v)  weld time(ms)  \n",
       "idx                                                                     \n",
       "1               2.33             14.57            2.701           72.0  \n",
       "2               2.36             14.57            2.701           72.0  \n",
       "3               2.37             14.54            2.703           71.0  \n",
       "4               2.37             14.54            2.703           72.0  \n",
       "5               2.36             14.56            2.704           72.0  "
      ]
     },
     "execution_count": 2,
     "metadata": {},
     "output_type": "execute_result"
    }
   ],
   "source": [
    "welding = pd.read_excel('welding_dataset.xlsx', index_col = 'idx')\n",
    "welding_copy = welding.copy()\n",
    "welding_copy.head()\n",
    "# welding_copy.info()"
   ]
  },
  {
   "cell_type": "code",
   "execution_count": 3,
   "id": "c4fb4756-29f0-4ca7-81f0-85475733e732",
   "metadata": {},
   "outputs": [],
   "source": [
    "# 데이터 종류 및 개수 확인"
   ]
  },
  {
   "cell_type": "code",
   "execution_count": 4,
   "id": "50d0867b-befb-4917-a6f3-cb2150a64f01",
   "metadata": {},
   "outputs": [
    {
     "name": "stdout",
     "output_type": "stream",
     "text": [
      "Machine_Name Spot-01    11939\n",
      "Name: Machine_Name, dtype: int64\n",
      "Item No 65235-25800    11939\n",
      "Name: Item No, dtype: int64\n",
      "working time 2020-04-02    2000\n",
      "2020-03-31    1800\n",
      "2020-03-27    1648\n",
      "2020-03-30    1470\n",
      "2020-03-25    1352\n",
      "2020-03-24    1200\n",
      "2020-03-26    1000\n",
      "2020-04-03     800\n",
      "2020-04-07     669\n",
      "Name: working time, dtype: int64\n",
      "Thickness 1(mm) 0.7    11939\n",
      "Name: Thickness 1(mm), dtype: int64\n",
      "Thickness 2(mm) 0.7    11939\n",
      "Name: Thickness 2(mm), dtype: int64\n",
      "weld force(bar) 2.31    1237\n",
      "2.33    1062\n",
      "2.35    1047\n",
      "2.32    1036\n",
      "2.36    1030\n",
      "        ... \n",
      "3.74       4\n",
      "7.87       4\n",
      "2.23       2\n",
      "2.19       2\n",
      "2.36       2\n",
      "Name: weld force(bar), Length: 177, dtype: int64\n",
      "weld current(kA) 14.73    1284\n",
      "14.74    1276\n",
      "14.75    1002\n",
      "14.72     771\n",
      "14.59     630\n",
      "14.76     612\n",
      "14.71     553\n",
      "14.58     544\n",
      "14.60     431\n",
      "14.57     378\n",
      "14.77     350\n",
      "14.78     318\n",
      "14.70     312\n",
      "14.56     296\n",
      "14.55     278\n",
      "14.61     260\n",
      "14.80     216\n",
      "14.81     204\n",
      "14.83     192\n",
      "14.62     154\n",
      "14.85     144\n",
      "14.67     142\n",
      "14.64     132\n",
      "14.54     130\n",
      "14.93     128\n",
      "14.94     120\n",
      "14.84      96\n",
      "14.82      96\n",
      "14.66      94\n",
      "14.68      94\n",
      "14.95      74\n",
      "15.07      72\n",
      "14.89      72\n",
      "14.79      70\n",
      "14.99      64\n",
      "14.65      62\n",
      "14.53      58\n",
      "14.97      50\n",
      "14.88      48\n",
      "14.91      48\n",
      "14.69      40\n",
      "14.52      22\n",
      "14.63      22\n",
      "Name: weld current(kA), dtype: int64\n",
      "weld Voltage(v) 2.701    1249\n",
      "2.700    1164\n",
      "2.702    1089\n",
      "2.699     952\n",
      "2.703     864\n",
      "         ... \n",
      "2.670       4\n",
      "2.775       4\n",
      "2.685       4\n",
      "2.739       4\n",
      "2.689       2\n",
      "Name: weld Voltage(v), Length: 113, dtype: int64\n",
      "weld time(ms) 72.00    6750\n",
      "71.00    3735\n",
      "73.00     899\n",
      "70.00     258\n",
      "72.18      99\n",
      "72.24      88\n",
      "72.16      66\n",
      "72.20      44\n",
      "Name: weld time(ms), dtype: int64\n"
     ]
    }
   ],
   "source": [
    "for feature in welding_copy:\n",
    "    print(feature,welding_copy[feature].value_counts())"
   ]
  },
  {
   "cell_type": "code",
   "execution_count": 5,
   "id": "c522984d-1bd8-4b9a-9a24-157e2dfda44a",
   "metadata": {},
   "outputs": [],
   "source": [
    "#wedling제품 요약 통계량"
   ]
  },
  {
   "cell_type": "code",
   "execution_count": 6,
   "id": "21994b32-6035-4259-94e2-08f6cda6467a",
   "metadata": {},
   "outputs": [
    {
     "data": {
      "text/html": [
       "<div>\n",
       "<style scoped>\n",
       "    .dataframe tbody tr th:only-of-type {\n",
       "        vertical-align: middle;\n",
       "    }\n",
       "\n",
       "    .dataframe tbody tr th {\n",
       "        vertical-align: top;\n",
       "    }\n",
       "\n",
       "    .dataframe thead th {\n",
       "        text-align: right;\n",
       "    }\n",
       "</style>\n",
       "<table border=\"1\" class=\"dataframe\">\n",
       "  <thead>\n",
       "    <tr style=\"text-align: right;\">\n",
       "      <th></th>\n",
       "      <th>Thickness 1(mm)</th>\n",
       "      <th>Thickness 2(mm)</th>\n",
       "      <th>weld force(bar)</th>\n",
       "      <th>weld current(kA)</th>\n",
       "      <th>weld Voltage(v)</th>\n",
       "      <th>weld time(ms)</th>\n",
       "    </tr>\n",
       "  </thead>\n",
       "  <tbody>\n",
       "    <tr>\n",
       "      <th>count</th>\n",
       "      <td>1.193900e+04</td>\n",
       "      <td>1.193900e+04</td>\n",
       "      <td>11939.000000</td>\n",
       "      <td>11939.000000</td>\n",
       "      <td>11939.000000</td>\n",
       "      <td>11939.000000</td>\n",
       "    </tr>\n",
       "    <tr>\n",
       "      <th>mean</th>\n",
       "      <td>7.000000e-01</td>\n",
       "      <td>7.000000e-01</td>\n",
       "      <td>2.787925</td>\n",
       "      <td>14.711208</td>\n",
       "      <td>2.704223</td>\n",
       "      <td>71.724123</td>\n",
       "    </tr>\n",
       "    <tr>\n",
       "      <th>std</th>\n",
       "      <td>1.113600e-13</td>\n",
       "      <td>1.113600e-13</td>\n",
       "      <td>1.455966</td>\n",
       "      <td>0.099000</td>\n",
       "      <td>0.024700</td>\n",
       "      <td>0.632049</td>\n",
       "    </tr>\n",
       "    <tr>\n",
       "      <th>min</th>\n",
       "      <td>7.000000e-01</td>\n",
       "      <td>7.000000e-01</td>\n",
       "      <td>1.740000</td>\n",
       "      <td>14.520000</td>\n",
       "      <td>2.464000</td>\n",
       "      <td>70.000000</td>\n",
       "    </tr>\n",
       "    <tr>\n",
       "      <th>25%</th>\n",
       "      <td>7.000000e-01</td>\n",
       "      <td>7.000000e-01</td>\n",
       "      <td>2.310000</td>\n",
       "      <td>14.610000</td>\n",
       "      <td>2.699000</td>\n",
       "      <td>71.000000</td>\n",
       "    </tr>\n",
       "    <tr>\n",
       "      <th>50%</th>\n",
       "      <td>7.000000e-01</td>\n",
       "      <td>7.000000e-01</td>\n",
       "      <td>2.340000</td>\n",
       "      <td>14.730000</td>\n",
       "      <td>2.702000</td>\n",
       "      <td>72.000000</td>\n",
       "    </tr>\n",
       "    <tr>\n",
       "      <th>75%</th>\n",
       "      <td>7.000000e-01</td>\n",
       "      <td>7.000000e-01</td>\n",
       "      <td>2.370000</td>\n",
       "      <td>14.750000</td>\n",
       "      <td>2.706000</td>\n",
       "      <td>72.000000</td>\n",
       "    </tr>\n",
       "    <tr>\n",
       "      <th>max</th>\n",
       "      <td>7.000000e-01</td>\n",
       "      <td>7.000000e-01</td>\n",
       "      <td>10.540000</td>\n",
       "      <td>15.070000</td>\n",
       "      <td>2.861000</td>\n",
       "      <td>73.000000</td>\n",
       "    </tr>\n",
       "  </tbody>\n",
       "</table>\n",
       "</div>"
      ],
      "text/plain": [
       "       Thickness 1(mm)  Thickness 2(mm)  weld force(bar)  weld current(kA)  \\\n",
       "count     1.193900e+04     1.193900e+04     11939.000000      11939.000000   \n",
       "mean      7.000000e-01     7.000000e-01         2.787925         14.711208   \n",
       "std       1.113600e-13     1.113600e-13         1.455966          0.099000   \n",
       "min       7.000000e-01     7.000000e-01         1.740000         14.520000   \n",
       "25%       7.000000e-01     7.000000e-01         2.310000         14.610000   \n",
       "50%       7.000000e-01     7.000000e-01         2.340000         14.730000   \n",
       "75%       7.000000e-01     7.000000e-01         2.370000         14.750000   \n",
       "max       7.000000e-01     7.000000e-01        10.540000         15.070000   \n",
       "\n",
       "       weld Voltage(v)  weld time(ms)  \n",
       "count     11939.000000   11939.000000  \n",
       "mean          2.704223      71.724123  \n",
       "std           0.024700       0.632049  \n",
       "min           2.464000      70.000000  \n",
       "25%           2.699000      71.000000  \n",
       "50%           2.702000      72.000000  \n",
       "75%           2.706000      72.000000  \n",
       "max           2.861000      73.000000  "
      ]
     },
     "execution_count": 6,
     "metadata": {},
     "output_type": "execute_result"
    }
   ],
   "source": [
    "welding_copy.describe()"
   ]
  },
  {
   "cell_type": "code",
   "execution_count": 7,
   "id": "7d847d40-b562-4ed6-b9db-e83f0f823a3e",
   "metadata": {},
   "outputs": [
    {
     "name": "stderr",
     "output_type": "stream",
     "text": [
      "C:\\Users\\woni7\\AppData\\Local\\Temp\\ipykernel_10968\\2557199629.py:1: FutureWarning: The default value of numeric_only in DataFrame.corr is deprecated. In a future version, it will default to False. Select only valid columns or specify the value of numeric_only to silence this warning.\n",
      "  corr = welding_copy.corr(method = 'kendall')\n"
     ]
    },
    {
     "data": {
      "text/html": [
       "<div>\n",
       "<style scoped>\n",
       "    .dataframe tbody tr th:only-of-type {\n",
       "        vertical-align: middle;\n",
       "    }\n",
       "\n",
       "    .dataframe tbody tr th {\n",
       "        vertical-align: top;\n",
       "    }\n",
       "\n",
       "    .dataframe thead th {\n",
       "        text-align: right;\n",
       "    }\n",
       "</style>\n",
       "<table border=\"1\" class=\"dataframe\">\n",
       "  <thead>\n",
       "    <tr style=\"text-align: right;\">\n",
       "      <th></th>\n",
       "      <th>Thickness 1(mm)</th>\n",
       "      <th>Thickness 2(mm)</th>\n",
       "      <th>weld force(bar)</th>\n",
       "      <th>weld current(kA)</th>\n",
       "      <th>weld Voltage(v)</th>\n",
       "      <th>weld time(ms)</th>\n",
       "    </tr>\n",
       "  </thead>\n",
       "  <tbody>\n",
       "    <tr>\n",
       "      <th>Thickness 1(mm)</th>\n",
       "      <td>1.0</td>\n",
       "      <td>0.0</td>\n",
       "      <td>0.000000</td>\n",
       "      <td>0.000000</td>\n",
       "      <td>0.000000</td>\n",
       "      <td>0.000000</td>\n",
       "    </tr>\n",
       "    <tr>\n",
       "      <th>Thickness 2(mm)</th>\n",
       "      <td>0.0</td>\n",
       "      <td>1.0</td>\n",
       "      <td>0.000000</td>\n",
       "      <td>0.000000</td>\n",
       "      <td>0.000000</td>\n",
       "      <td>0.000000</td>\n",
       "    </tr>\n",
       "    <tr>\n",
       "      <th>weld force(bar)</th>\n",
       "      <td>0.0</td>\n",
       "      <td>0.0</td>\n",
       "      <td>1.000000</td>\n",
       "      <td>-0.207660</td>\n",
       "      <td>0.143607</td>\n",
       "      <td>0.049078</td>\n",
       "    </tr>\n",
       "    <tr>\n",
       "      <th>weld current(kA)</th>\n",
       "      <td>0.0</td>\n",
       "      <td>0.0</td>\n",
       "      <td>-0.207660</td>\n",
       "      <td>1.000000</td>\n",
       "      <td>0.033428</td>\n",
       "      <td>-0.034601</td>\n",
       "    </tr>\n",
       "    <tr>\n",
       "      <th>weld Voltage(v)</th>\n",
       "      <td>0.0</td>\n",
       "      <td>0.0</td>\n",
       "      <td>0.143607</td>\n",
       "      <td>0.033428</td>\n",
       "      <td>1.000000</td>\n",
       "      <td>-0.013372</td>\n",
       "    </tr>\n",
       "    <tr>\n",
       "      <th>weld time(ms)</th>\n",
       "      <td>0.0</td>\n",
       "      <td>0.0</td>\n",
       "      <td>0.049078</td>\n",
       "      <td>-0.034601</td>\n",
       "      <td>-0.013372</td>\n",
       "      <td>1.000000</td>\n",
       "    </tr>\n",
       "  </tbody>\n",
       "</table>\n",
       "</div>"
      ],
      "text/plain": [
       "                  Thickness 1(mm)  Thickness 2(mm)  weld force(bar)  \\\n",
       "Thickness 1(mm)               1.0              0.0         0.000000   \n",
       "Thickness 2(mm)               0.0              1.0         0.000000   \n",
       "weld force(bar)               0.0              0.0         1.000000   \n",
       "weld current(kA)              0.0              0.0        -0.207660   \n",
       "weld Voltage(v)               0.0              0.0         0.143607   \n",
       "weld time(ms)                 0.0              0.0         0.049078   \n",
       "\n",
       "                  weld current(kA)  weld Voltage(v)  weld time(ms)  \n",
       "Thickness 1(mm)           0.000000         0.000000       0.000000  \n",
       "Thickness 2(mm)           0.000000         0.000000       0.000000  \n",
       "weld force(bar)          -0.207660         0.143607       0.049078  \n",
       "weld current(kA)          1.000000         0.033428      -0.034601  \n",
       "weld Voltage(v)           0.033428         1.000000      -0.013372  \n",
       "weld time(ms)            -0.034601        -0.013372       1.000000  "
      ]
     },
     "execution_count": 7,
     "metadata": {},
     "output_type": "execute_result"
    }
   ],
   "source": [
    "corr = welding_copy.corr(method = 'kendall')\n",
    "corr = corr.fillna(0)\n",
    "corr"
   ]
  },
  {
   "cell_type": "code",
   "execution_count": 8,
   "id": "11ea2aca-27c7-40da-94f6-cba206825f5a",
   "metadata": {},
   "outputs": [
    {
     "data": {
      "text/plain": [
       "<Axes: >"
      ]
     },
     "execution_count": 8,
     "metadata": {},
     "output_type": "execute_result"
    },
    {
     "data": {
      "image/png": "[encoded data removed]",
      "text/plain": [
       "<Figure size 640x480 with 2 Axes>"
      ]
     },
     "metadata": {},
     "output_type": "display_data"
    }
   ],
   "source": [
    "#변수 간의 상관계수 시각화\n",
    "sns.heatmap(corr,annot = True, cmap = 'Blues')\n"
   ]
  },
  {
   "cell_type": "code",
   "execution_count": 9,
   "id": "eeb1d572-ed1a-4c8f-8b7e-05e3bb757258",
   "metadata": {},
   "outputs": [],
   "source": [
    "# 대각행렬 제거"
   ]
  },
  {
   "cell_type": "code",
   "execution_count": 10,
   "id": "f055afaf-5ac3-4baa-94b3-5031eaad3e46",
   "metadata": {},
   "outputs": [
    {
     "data": {
      "text/plain": [
       "array([[0., 0., 0., 0., 0., 0.],\n",
       "       [0., 0., 0., 0., 0., 0.],\n",
       "       [0., 0., 0., 0., 0., 0.],\n",
       "       [0., 0., 0., 0., 0., 0.],\n",
       "       [0., 0., 0., 0., 0., 0.],\n",
       "       [0., 0., 0., 0., 0., 0.]])"
      ]
     },
     "execution_count": 10,
     "metadata": {},
     "output_type": "execute_result"
    }
   ],
   "source": [
    "mask = np.zeros_like(corr)\n",
    "mask"
   ]
  },
  {
   "cell_type": "code",
   "execution_count": 11,
   "id": "e83504ab-36fb-4304-82a8-21f5489d46cd",
   "metadata": {},
   "outputs": [
    {
     "data": {
      "text/plain": [
       "array([[1., 1., 1., 1., 1., 1.],\n",
       "       [0., 1., 1., 1., 1., 1.],\n",
       "       [0., 0., 1., 1., 1., 1.],\n",
       "       [0., 0., 0., 1., 1., 1.],\n",
       "       [0., 0., 0., 0., 1., 1.],\n",
       "       [0., 0., 0., 0., 0., 1.]])"
      ]
     },
     "execution_count": 11,
     "metadata": {},
     "output_type": "execute_result"
    }
   ],
   "source": [
    "mask[np.triu_indices_from(mask)] = 1\n",
    "mask"
   ]
  },
  {
   "cell_type": "code",
   "execution_count": 12,
   "id": "430315a5-d9cb-4f53-aea7-e0291372673f",
   "metadata": {},
   "outputs": [
    {
     "data": {
      "text/plain": [
       "<Axes: >"
      ]
     },
     "execution_count": 12,
     "metadata": {},
     "output_type": "execute_result"
    },
    {
     "data": {
      "image/png": "[encoded data removed]",
      "text/plain": [
       "<Figure size 640x480 with 2 Axes>"
      ]
     },
     "metadata": {},
     "output_type": "display_data"
    }
   ],
   "source": [
    "sns.heatmap(data = corr, annot = True, cmap = 'RdBu', mask = mask)"
   ]
  },
  {
   "cell_type": "code",
   "execution_count": 13,
   "id": "36ee4006-e7c3-4320-bfe8-9d4ac1efb72a",
   "metadata": {},
   "outputs": [
    {
     "data": {
      "text/plain": [
       "<Axes: >"
      ]
     },
     "execution_count": 13,
     "metadata": {},
     "output_type": "execute_result"
    },
    {
     "data": {
      "image/png": "[encoded data removed]",
      "text/plain": [
       "<Figure size 640x480 with 2 Axes>"
      ]
     },
     "metadata": {},
     "output_type": "display_data"
    }
   ],
   "source": [
    "mask_new = mask[1: , :-1]\n",
    "corr_new = corr.iloc[1: , :-1]\n",
    "sns.heatmap(data = corr_new, annot = True, \n",
    "            cmap = 'RdBu', mask = mask_new)"
   ]
  },
  {
   "cell_type": "code",
   "execution_count": 14,
   "id": "7a06865f-925c-4167-87f5-20dcee28af8e",
   "metadata": {},
   "outputs": [
    {
     "data": {
      "image/png": "[encoded data removed]",
      "text/plain": [
       "<Figure size 640x480 with 1 Axes>"
      ]
     },
     "metadata": {},
     "output_type": "display_data"
    },
    {
     "data": {
      "image/png": "[encoded data removed]",
      "text/plain": [
       "<Figure size 640x480 with 1 Axes>"
      ]
     },
     "metadata": {},
     "output_type": "display_data"
    },
    {
     "data": {
      "image/png": "[encoded data removed]",
      "text/plain": [
       "<Figure size 640x480 with 1 Axes>"
      ]
     },
     "metadata": {},
     "output_type": "display_data"
    },
    {
     "data": {
      "image/png": "[encoded data removed]",
      "text/plain": [
       "<Figure size 640x480 with 1 Axes>"
      ]
     },
     "metadata": {},
     "output_type": "display_data"
    },
    {
     "data": {
      "image/png": "[encoded data removed]",
      "text/plain": [
       "<Figure size 640x480 with 1 Axes>"
      ]
     },
     "metadata": {},
     "output_type": "display_data"
    },
    {
     "data": {
      "image/png": "[encoded data removed]",
      "text/plain": [
       "<Figure size 640x480 with 1 Axes>"
      ]
     },
     "metadata": {},
     "output_type": "display_data"
    }
   ],
   "source": [
    "for index, value in enumerate(corr.columns):\n",
    "    plt.figure(index)\n",
    "    plt.subplot(2,3,1)\n",
    "    plt.hist(welding_copy[value],bins = 25)\n",
    "    plt.title(value)\n",
    "    "
   ]
  },
  {
   "cell_type": "code",
   "execution_count": 15,
   "id": "f2f2a775-3d3d-4e64-afd3-325b828ad9da",
   "metadata": {
    "tags": []
   },
   "outputs": [],
   "source": [
    "# 4단계 : 데이터 정제(전처리)"
   ]
  },
  {
   "cell_type": "code",
   "execution_count": 16,
   "id": "8e4745e3-e236-4f2c-a0f0-ec65b36cd86a",
   "metadata": {},
   "outputs": [
    {
     "data": {
      "text/html": [
       "<div>\n",
       "<style scoped>\n",
       "    .dataframe tbody tr th:only-of-type {\n",
       "        vertical-align: middle;\n",
       "    }\n",
       "\n",
       "    .dataframe tbody tr th {\n",
       "        vertical-align: top;\n",
       "    }\n",
       "\n",
       "    .dataframe thead th {\n",
       "        text-align: right;\n",
       "    }\n",
       "</style>\n",
       "<table border=\"1\" class=\"dataframe\">\n",
       "  <thead>\n",
       "    <tr style=\"text-align: right;\">\n",
       "      <th></th>\n",
       "      <th>weld force(bar)</th>\n",
       "      <th>weld current(kA)</th>\n",
       "      <th>weld Voltage(v)</th>\n",
       "      <th>weld time(ms)</th>\n",
       "    </tr>\n",
       "    <tr>\n",
       "      <th>idx</th>\n",
       "      <th></th>\n",
       "      <th></th>\n",
       "      <th></th>\n",
       "      <th></th>\n",
       "    </tr>\n",
       "  </thead>\n",
       "  <tbody>\n",
       "    <tr>\n",
       "      <th>1</th>\n",
       "      <td>2.33</td>\n",
       "      <td>14.57</td>\n",
       "      <td>2.701</td>\n",
       "      <td>72.0</td>\n",
       "    </tr>\n",
       "    <tr>\n",
       "      <th>2</th>\n",
       "      <td>2.36</td>\n",
       "      <td>14.57</td>\n",
       "      <td>2.701</td>\n",
       "      <td>72.0</td>\n",
       "    </tr>\n",
       "    <tr>\n",
       "      <th>3</th>\n",
       "      <td>2.37</td>\n",
       "      <td>14.54</td>\n",
       "      <td>2.703</td>\n",
       "      <td>71.0</td>\n",
       "    </tr>\n",
       "    <tr>\n",
       "      <th>4</th>\n",
       "      <td>2.37</td>\n",
       "      <td>14.54</td>\n",
       "      <td>2.703</td>\n",
       "      <td>72.0</td>\n",
       "    </tr>\n",
       "    <tr>\n",
       "      <th>5</th>\n",
       "      <td>2.36</td>\n",
       "      <td>14.56</td>\n",
       "      <td>2.704</td>\n",
       "      <td>72.0</td>\n",
       "    </tr>\n",
       "    <tr>\n",
       "      <th>...</th>\n",
       "      <td>...</td>\n",
       "      <td>...</td>\n",
       "      <td>...</td>\n",
       "      <td>...</td>\n",
       "    </tr>\n",
       "    <tr>\n",
       "      <th>665</th>\n",
       "      <td>2.37</td>\n",
       "      <td>14.55</td>\n",
       "      <td>2.702</td>\n",
       "      <td>72.0</td>\n",
       "    </tr>\n",
       "    <tr>\n",
       "      <th>666</th>\n",
       "      <td>2.37</td>\n",
       "      <td>14.60</td>\n",
       "      <td>2.712</td>\n",
       "      <td>72.0</td>\n",
       "    </tr>\n",
       "    <tr>\n",
       "      <th>667</th>\n",
       "      <td>2.37</td>\n",
       "      <td>14.60</td>\n",
       "      <td>2.712</td>\n",
       "      <td>71.0</td>\n",
       "    </tr>\n",
       "    <tr>\n",
       "      <th>668</th>\n",
       "      <td>2.35</td>\n",
       "      <td>14.53</td>\n",
       "      <td>2.712</td>\n",
       "      <td>71.0</td>\n",
       "    </tr>\n",
       "    <tr>\n",
       "      <th>669</th>\n",
       "      <td>2.35</td>\n",
       "      <td>14.53</td>\n",
       "      <td>2.712</td>\n",
       "      <td>71.0</td>\n",
       "    </tr>\n",
       "  </tbody>\n",
       "</table>\n",
       "<p>11939 rows × 4 columns</p>\n",
       "</div>"
      ],
      "text/plain": [
       "     weld force(bar)  weld current(kA)  weld Voltage(v)  weld time(ms)\n",
       "idx                                                                   \n",
       "1               2.33             14.57            2.701           72.0\n",
       "2               2.36             14.57            2.701           72.0\n",
       "3               2.37             14.54            2.703           71.0\n",
       "4               2.37             14.54            2.703           72.0\n",
       "5               2.36             14.56            2.704           72.0\n",
       "..               ...               ...              ...            ...\n",
       "665             2.37             14.55            2.702           72.0\n",
       "666             2.37             14.60            2.712           72.0\n",
       "667             2.37             14.60            2.712           71.0\n",
       "668             2.35             14.53            2.712           71.0\n",
       "669             2.35             14.53            2.712           71.0\n",
       "\n",
       "[11939 rows x 4 columns]"
      ]
     },
     "execution_count": 16,
     "metadata": {},
     "output_type": "execute_result"
    }
   ],
   "source": [
    "new_welding_copy = welding_copy.iloc[:, 5:] # 불필요한 데이터 제거\n",
    "new_welding_copy"
   ]
  },
  {
   "cell_type": "code",
   "execution_count": 17,
   "id": "125f00a9-e250-4991-96f0-711ca6e2b277",
   "metadata": {},
   "outputs": [],
   "source": [
    "# 데이터 정규화"
   ]
  },
  {
   "cell_type": "code",
   "execution_count": 63,
   "id": "eb7c5086-fbe9-4ab9-9d26-56b923d1b862",
   "metadata": {},
   "outputs": [],
   "source": [
    "scaler = preprocessing.MinMaxScaler()\n",
    "scaler.fit(new_welding_copy)\n",
    "scaled_data = scaler.transform(new_welding_copy)"
   ]
  },
  {
   "cell_type": "code",
   "execution_count": 64,
   "id": "e070730d-e635-4289-b986-ca16a3294dbe",
   "metadata": {},
   "outputs": [],
   "source": [
    "# 5단계 : 오토인코더 모델 구축(잡음제거)"
   ]
  },
  {
   "cell_type": "code",
   "execution_count": 133,
   "id": "26a8295a-440d-4b77-9291-20889cdb9a69",
   "metadata": {},
   "outputs": [],
   "source": [
    "## AutoEncoder 클래스 구현\n",
    "class AutoEncoder(nn.Module):\n",
    "    def __init__(self,input_size,hidden_size,output_size):\n",
    "        super(AutoEncoder,self).__init__()\n",
    "        ##initialize\n",
    "        self.input_size = input_size\n",
    "        self.hidden_size = hidden_size\n",
    "        self.output_size = output_size\n",
    "        ## 오토인코더 구현\n",
    "        self.AutoEncoder = nn.Sequential(\n",
    "        ## 인코더 부분\n",
    "        nn.Linear(input_size,hidden_size[0]),\n",
    "        nn.RReLU(),\n",
    "        nn.Linear(hidden_size[0], output_size),\n",
    "        nn.RReLU(),\n",
    "        ## 디코더 부분\n",
    "        nn.Linear(output_size, hidden_size[0]),\n",
    "        nn.RReLU(),\n",
    "        nn.Linear(hidden_size[0], input_size)\n",
    "        )\n",
    "    def forward(self,inputs):\n",
    "        output = self.AutoEncoder(inputs)\n",
    "        \n",
    "        return output"
   ]
  },
  {
   "cell_type": "code",
   "execution_count": 134,
   "id": "ecff2dbf-1c66-4d4c-9c19-380498d43cef",
   "metadata": {},
   "outputs": [],
   "source": [
    "# 6단계 : training/ test 데이터 분할"
   ]
  },
  {
   "cell_type": "code",
   "execution_count": 135,
   "id": "fd2a81c4-7641-456e-85d6-51bf47109ca5",
   "metadata": {},
   "outputs": [
    {
     "name": "stdout",
     "output_type": "stream",
     "text": [
      "5000\n",
      "6939\n"
     ]
    }
   ],
   "source": [
    "train_data = torch.Tensor(scaled_data[:5000])\n",
    "print(len(train_data))\n",
    "test_data = torch.Tensor(scaled_data[5000:])\n",
    "print(len(test_data))\n",
    "# 오토인코더는 tensor형태로만 입력을 받기에 변형"
   ]
  },
  {
   "cell_type": "code",
   "execution_count": 136,
   "id": "2535fa04-9c10-4a27-9bfb-0953cf0071ec",
   "metadata": {},
   "outputs": [],
   "source": [
    "# 7단계 : epoch,batch_size,학습률  등 지정"
   ]
  },
  {
   "cell_type": "code",
   "execution_count": 137,
   "id": "c9d27590-145d-4f36-a0fd-2e76bfaa5f90",
   "metadata": {},
   "outputs": [],
   "source": [
    "epoch = 50\n",
    "batch_size = 64\n",
    "learning_rate = 0.03\n",
    "input_size = len(train_data[0])\n",
    "hidden_size = [3]\n",
    "output_size = 2\n",
    "criterion = nn.MSELoss()\n",
    "optimizer = torch.optim.Adam\n",
    "AutoEncoder = AutoEncoder(input_size, hidden_size, output_size)"
   ]
  },
  {
   "cell_type": "code",
   "execution_count": 138,
   "id": "bae51cc9-0881-4e3a-a3d2-dd73c54061a4",
   "metadata": {},
   "outputs": [],
   "source": [
    "# 8단계 : 오토인코더 학습 함수 정의"
   ]
  },
  {
   "cell_type": "code",
   "execution_count": 139,
   "id": "9f126d35-86f1-4990-9f58-3f8c8029f02d",
   "metadata": {},
   "outputs": [],
   "source": [
    "def train_net(AutoEncoder, data, criterion,\n",
    "              epochs, lr_rate = 0.01):\n",
    "    optim = optimizer(AutoEncoder.parameters(),\n",
    "                      lr = lr_rate)\n",
    "    data_iter = DataLoader(data,batch_size = batch_size,\n",
    "                           shuffle = True)\n",
    "    for epoch in range(1, epochs+1):\n",
    "        running_loss = 0.0\n",
    "        for x in data_iter:\n",
    "            optim.zero_grad()\n",
    "            output = AutoEncoder(x)\n",
    "            loss = criterion(x,output)\n",
    "            loss.backward()\n",
    "            optim.step()\n",
    "            running_loss += loss.item()\n",
    "            \n",
    "        print('epoch : {}, loss: {:2f}'.format(epoch,running_loss))    \n",
    "    return AutoEncoder\n"
   ]
  },
  {
   "cell_type": "code",
   "execution_count": 140,
   "id": "bcae0892-a936-4311-9c9c-0b55e8cb3960",
   "metadata": {},
   "outputs": [
    {
     "name": "stdout",
     "output_type": "stream",
     "text": [
      "epoch : 1, loss: 5.421420\n",
      "epoch : 2, loss: 1.897222\n",
      "epoch : 3, loss: 1.207626\n",
      "epoch : 4, loss: 0.971186\n",
      "epoch : 5, loss: 0.382600\n",
      "epoch : 6, loss: 0.342078\n",
      "epoch : 7, loss: 0.306870\n",
      "epoch : 8, loss: 0.280078\n",
      "epoch : 9, loss: 0.279336\n",
      "epoch : 10, loss: 0.249578\n",
      "epoch : 11, loss: 0.251704\n",
      "epoch : 12, loss: 0.259001\n",
      "epoch : 13, loss: 0.247977\n",
      "epoch : 14, loss: 0.244044\n",
      "epoch : 15, loss: 0.236625\n",
      "epoch : 16, loss: 0.243622\n",
      "epoch : 17, loss: 0.256297\n",
      "epoch : 18, loss: 0.250700\n",
      "epoch : 19, loss: 0.249549\n",
      "epoch : 20, loss: 0.221114\n",
      "epoch : 21, loss: 0.220204\n",
      "epoch : 22, loss: 0.223719\n",
      "epoch : 23, loss: 0.218944\n",
      "epoch : 24, loss: 0.221394\n",
      "epoch : 25, loss: 0.226714\n",
      "epoch : 26, loss: 0.239738\n",
      "epoch : 27, loss: 0.217129\n",
      "epoch : 28, loss: 0.238916\n",
      "epoch : 29, loss: 0.220335\n",
      "epoch : 30, loss: 0.204432\n",
      "epoch : 31, loss: 0.223389\n",
      "epoch : 32, loss: 0.222210\n",
      "epoch : 33, loss: 0.221691\n",
      "epoch : 34, loss: 0.221757\n",
      "epoch : 35, loss: 0.233750\n",
      "epoch : 36, loss: 0.226673\n",
      "epoch : 37, loss: 0.213634\n",
      "epoch : 38, loss: 0.227289\n",
      "epoch : 39, loss: 0.217217\n",
      "epoch : 40, loss: 0.235981\n",
      "epoch : 41, loss: 0.217902\n",
      "epoch : 42, loss: 0.223469\n",
      "epoch : 43, loss: 0.216852\n",
      "epoch : 44, loss: 0.208875\n",
      "epoch : 45, loss: 0.216326\n",
      "epoch : 46, loss: 0.222411\n",
      "epoch : 47, loss: 0.212352\n",
      "epoch : 48, loss: 0.213573\n",
      "epoch : 49, loss: 0.223672\n",
      "epoch : 50, loss: 0.231209\n"
     ]
    }
   ],
   "source": [
    "AutoEncoder = train_net(AutoEncoder, train_data, criterion,epoch,learning_rate)"
   ]
  },
  {
   "cell_type": "code",
   "execution_count": 141,
   "id": "321de9a6-38a6-467d-b669-3b00485a56a2",
   "metadata": {},
   "outputs": [],
   "source": [
    "# 9단계 : threshold 정의 후 결과 분석"
   ]
  },
  {
   "cell_type": "code",
   "execution_count": 142,
   "id": "55806fcb-14d9-47f9-afc3-1f392288a87c",
   "metadata": {},
   "outputs": [
    {
     "name": "stdout",
     "output_type": "stream",
     "text": [
      "Threshold: 0.093576836417521\n"
     ]
    }
   ],
   "source": [
    "train_loss_chart = []\n",
    "for data in train_data:\n",
    "    output = AutoEncoder(data)\n",
    "    loss = criterion(output,data)\n",
    "    train_loss_chart.append(loss.item())\n",
    "    \n",
    "threshold = np.mean(train_loss_chart) + np.std(train_loss_chart)*10\n",
    "print('Threshold:', threshold)"
   ]
  },
  {
   "cell_type": "code",
   "execution_count": 143,
   "id": "38873291-c69c-4b9a-b45f-611507da7361",
   "metadata": {},
   "outputs": [
    {
     "data": {
      "text/plain": [
       "765"
      ]
     },
     "execution_count": 143,
     "metadata": {},
     "output_type": "execute_result"
    }
   ],
   "source": [
    "test_loss_chart = []\n",
    "for data in test_data:\n",
    "    ouput = AutoEncoder(data)\n",
    "    loss = criterion(output,data)\n",
    "    test_loss_chart.append(loss.item())\n",
    "    \n",
    "outlier = list(test_loss_chart >= threshold)\n",
    "outlier.count(True)"
   ]
  },
  {
   "cell_type": "code",
   "execution_count": null,
   "id": "247da584-528d-4fa9-b6bc-c83098b1bd2a",
   "metadata": {},
   "outputs": [],
   "source": []
  }
 ],
 "metadata": {
  "kernelspec": {
   "display_name": "Python 3 (ipykernel)",
   "language": "python",
   "name": "python3"
  },
  "language_info": {
   "codemirror_mode": {
    "name": "ipython",
    "version": 3
   },
   "file_extension": ".py",
   "mimetype": "text/x-python",
   "name": "python",
   "nbconvert_exporter": "python",
   "pygments_lexer": "ipython3",
   "version": "3.10.9"
  }
 },
 "nbformat": 4,
 "nbformat_minor": 5
}
