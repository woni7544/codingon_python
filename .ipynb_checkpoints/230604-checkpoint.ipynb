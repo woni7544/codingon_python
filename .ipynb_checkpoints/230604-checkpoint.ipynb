{
 "cells": [
  {
   "cell_type": "code",
   "execution_count": 18,
   "id": "9f74ad83-0538-49e2-a558-98d88c21bef1",
   "metadata": {},
   "outputs": [],
   "source": [
    "#list와 array의 차이점"
   ]
  },
  {
   "cell_type": "code",
   "execution_count": 4,
   "id": "c43d847d-d958-4cf0-a4b9-eb4f0b35e173",
   "metadata": {},
   "outputs": [
    {
     "name": "stdout",
     "output_type": "stream",
     "text": [
      "[1 2 3]\n"
     ]
    }
   ],
   "source": [
    "import numpy as np\n",
    "x = np.array([1, 2, 3])\n",
    "print(x)"
   ]
  },
  {
   "cell_type": "code",
   "execution_count": 8,
   "id": "9740a394-088a-48ea-b3e0-8538d8a6cf1b",
   "metadata": {},
   "outputs": [
    {
     "name": "stdout",
     "output_type": "stream",
     "text": [
      "['1' '2' '3' 'a' 'b']\n",
      "[1, 2, 3, 'a', 'b']\n"
     ]
    }
   ],
   "source": [
    "x = np.array([1,2,3,'a','b'])\n",
    "y = [1,2,3,'a','b']\n",
    "print(x)\n",
    "print(y)"
   ]
  },
  {
   "cell_type": "code",
   "execution_count": 16,
   "id": "e68e90ed-7a0d-4871-a6c0-558fa4c6d0ca",
   "metadata": {},
   "outputs": [
    {
     "name": "stdout",
     "output_type": "stream",
     "text": [
      "[1, 2, 3, 4, 5, 6]\n",
      "[1, 2, 3, 1, 2, 3]\n"
     ]
    }
   ],
   "source": [
    "list1 = [1,2,3]\n",
    "list2 = [4,5,6]\n",
    "print(list1 + list2)\n",
    "print(list1 * 2)"
   ]
  },
  {
   "cell_type": "code",
   "execution_count": 19,
   "id": "62ddc366-aa98-4a38-817e-2df4e0c5920c",
   "metadata": {},
   "outputs": [
    {
     "name": "stdout",
     "output_type": "stream",
     "text": [
      "[5 7 9]\n",
      "[ 4 10 18]\n",
      "[2 4 6]\n"
     ]
    }
   ],
   "source": [
    "a = np.array([1,2,3])\n",
    "b = np.array([4,5,6])\n",
    "print(a+b)\n",
    "print(a*b)\n",
    "print(a * 2)"
   ]
  },
  {
   "cell_type": "code",
   "execution_count": 27,
   "id": "cd9efbfd-f055-4266-84f1-f66ac42a705e",
   "metadata": {},
   "outputs": [
    {
     "name": "stdout",
     "output_type": "stream",
     "text": [
      "2\n",
      "(2, 2)\n"
     ]
    }
   ],
   "source": [
    "print(a.ndim) #몇 차원인지 보여줌\n",
    "print(a.shape) # 몇 행 몇 열인지 보여줌"
   ]
  },
  {
   "cell_type": "code",
   "execution_count": 29,
   "id": "44b9414b-83a4-4e39-94dd-1054e6c8a693",
   "metadata": {},
   "outputs": [
    {
     "data": {
      "text/plain": [
       "(2, 2)"
      ]
     },
     "execution_count": 29,
     "metadata": {},
     "output_type": "execute_result"
    }
   ],
   "source": [
    "a = np.array([[1,2], [2,3]])\n",
    "a.ndim\n",
    "a.shape"
   ]
  },
  {
   "cell_type": "code",
   "execution_count": 31,
   "id": "25e16610-8d09-48e4-a95e-f22f7c735cda",
   "metadata": {},
   "outputs": [],
   "source": [
    "#행렬 연산 메소드 : (dot() & matmul())"
   ]
  },
  {
   "cell_type": "code",
   "execution_count": 37,
   "id": "9e62ebb5-a0a3-491f-b24b-1f8b4b09dec6",
   "metadata": {},
   "outputs": [
    {
     "name": "stdout",
     "output_type": "stream",
     "text": [
      "32\n",
      "[[28 10]\n",
      " [73 28]]\n"
     ]
    }
   ],
   "source": [
    "# dot() : 스칼라의 곱\n",
    "# 1차원 행렬의 내적연산\n",
    "a = np.array([1,2,3])\n",
    "b = np.array([4,5,6])\n",
    "print(np.dot(a,b))\n",
    "# matmul() : 2차원 행렬의 곱\n",
    "# 2차원 행렬 내적연산\n",
    "c = np.array([[1,2,3],[4,5,6]])\n",
    "d = np.array([[6,3],[5,2],[4,1]])\n",
    "print(np.matmul(c,d))"
   ]
  },
  {
   "cell_type": "code",
   "execution_count": 38,
   "id": "01babc76-d828-425b-9675-abb7e0bb9864",
   "metadata": {},
   "outputs": [],
   "source": [
    "#영행렬 생성"
   ]
  },
  {
   "cell_type": "code",
   "execution_count": 45,
   "id": "11c6a0bf-3349-412b-a1ba-47840767f76a",
   "metadata": {},
   "outputs": [
    {
     "data": {
      "text/plain": [
       "array([[0., 0., 0.],\n",
       "       [0., 0., 0.],\n",
       "       [0., 0., 0.]])"
      ]
     },
     "execution_count": 45,
     "metadata": {},
     "output_type": "execute_result"
    }
   ],
   "source": [
    "a = np.zeros((3,3))\n",
    "a"
   ]
  },
  {
   "cell_type": "code",
   "execution_count": 46,
   "id": "bd963fa7-be49-456a-96e7-96d52b11dbee",
   "metadata": {},
   "outputs": [],
   "source": [
    "#단위행렬 생성"
   ]
  },
  {
   "cell_type": "code",
   "execution_count": 48,
   "id": "c3470f21-9ea8-4837-bcdb-4ddd6f5f80cf",
   "metadata": {},
   "outputs": [
    {
     "name": "stdout",
     "output_type": "stream",
     "text": [
      "[[1. 0. 0.]\n",
      " [0. 1. 0.]\n",
      " [0. 0. 1.]]\n"
     ]
    }
   ],
   "source": [
    "print(np.eye(3))"
   ]
  },
  {
   "cell_type": "code",
   "execution_count": 50,
   "id": "6b4c95e0-6c48-43f3-ac26-230110842201",
   "metadata": {},
   "outputs": [],
   "source": [
    "#행렬의 평탄화 작업 : .flatten()"
   ]
  },
  {
   "cell_type": "code",
   "execution_count": 53,
   "id": "0c11880c-6a20-4407-934f-28cd1e696caf",
   "metadata": {},
   "outputs": [
    {
     "name": "stdout",
     "output_type": "stream",
     "text": [
      "[[2 3]\n",
      " [1 4]]\n",
      "[2 3 1 4]\n"
     ]
    }
   ],
   "source": [
    "a = np.array([[2,3], [1,4]])\n",
    "print(a)\n",
    "print(a.flatten())"
   ]
  },
  {
   "cell_type": "code",
   "execution_count": 54,
   "id": "8dabeacb-eb6d-4449-99ca-bed6c499e4d6",
   "metadata": {},
   "outputs": [],
   "source": [
    "#행렬의 차원을 변경 : .reshape()"
   ]
  },
  {
   "cell_type": "code",
   "execution_count": 57,
   "id": "b25c2249-ff84-4437-8397-7fb4f8b160fd",
   "metadata": {},
   "outputs": [
    {
     "name": "stdout",
     "output_type": "stream",
     "text": [
      "[[1 2]\n",
      " [3 1]\n",
      " [4 5]]\n"
     ]
    }
   ],
   "source": [
    "a = np.array([[1,2,3], [1,4,5]])\n",
    "print(a.reshape(3,2)) #2x3행렬 -> 3x2행렬\n",
    "# 주의할 점 : 원소의 갯수가 같아야함"
   ]
  },
  {
   "cell_type": "code",
   "execution_count": 58,
   "id": "1c8e4945-1a6b-4706-8a11-3d1a90944134",
   "metadata": {},
   "outputs": [],
   "source": [
    "#특정배열의 만듦 : .arange()"
   ]
  },
  {
   "cell_type": "code",
   "execution_count": 63,
   "id": "a5389768-4218-41ed-9dc4-419f99528192",
   "metadata": {},
   "outputs": [
    {
     "name": "stdout",
     "output_type": "stream",
     "text": [
      "[5 7 9]\n",
      "range(0, 5)\n"
     ]
    }
   ],
   "source": [
    "a = np.arange(5,10,2)#5부터 10까지 2씩 추가하며 행렬생성\n",
    "b = range(5)\n",
    "print(a)\n",
    "print(b)"
   ]
  },
  {
   "cell_type": "code",
   "execution_count": 64,
   "id": "9d072e8a-204c-4168-a455-98a019a20700",
   "metadata": {},
   "outputs": [],
   "source": [
    "# 난수생성"
   ]
  },
  {
   "cell_type": "code",
   "execution_count": 65,
   "id": "1de02173-4d8c-4059-b45c-568cda03b5e1",
   "metadata": {},
   "outputs": [],
   "source": [
    "#.random.randint()\n",
    "#.random.rand(m,n)"
   ]
  },
  {
   "cell_type": "code",
   "execution_count": 75,
   "id": "100cab10-a3fb-4997-8fba-957f96df6363",
   "metadata": {},
   "outputs": [
    {
     "data": {
      "text/plain": [
       "array([[0, 2, 3],\n",
       "       [2, 2, 4]])"
      ]
     },
     "execution_count": 75,
     "metadata": {},
     "output_type": "execute_result"
    }
   ],
   "source": [
    "np.random.randint(5,size = (2,3))\n",
    "# 0~5사이 값이 랜덤으로 2x3행렬생성"
   ]
  },
  {
   "cell_type": "code",
   "execution_count": 77,
   "id": "69c62350-0c8c-4882-8464-556a93ebf931",
   "metadata": {},
   "outputs": [
    {
     "data": {
      "text/plain": [
       "array([[0.93490029, 0.41344019, 0.10931396, 0.97744192],\n",
       "       [0.16344703, 0.93435948, 0.64755327, 0.00131962],\n",
       "       [0.46255342, 0.05573828, 0.40698993, 0.76938075]])"
      ]
     },
     "execution_count": 77,
     "metadata": {},
     "output_type": "execute_result"
    }
   ],
   "source": [
    "np.random.rand(3,4)\n",
    "#0~1사이 값이 랜덤으로 행렬생성"
   ]
  },
  {
   "cell_type": "code",
   "execution_count": 78,
   "id": "5b55a4a6-3a5f-4c24-b76f-bf914caac981",
   "metadata": {},
   "outputs": [],
   "source": [
    "#조건 인덱싱"
   ]
  },
  {
   "cell_type": "code",
   "execution_count": 80,
   "id": "eeaf7b0e-a6e8-4dd8-bc14-c4f970e691dd",
   "metadata": {},
   "outputs": [
    {
     "data": {
      "text/plain": [
       "array([[False, False],\n",
       "       [False, False],\n",
       "       [ True,  True]])"
      ]
     },
     "execution_count": 80,
     "metadata": {},
     "output_type": "execute_result"
    }
   ],
   "source": [
    "a = np.array([[1,2],[3,4],[5,6]])\n",
    "a > 4"
   ]
  },
  {
   "cell_type": "code",
   "execution_count": 83,
   "id": "6a982285-912b-4eca-8aa2-4ae57d762586",
   "metadata": {},
   "outputs": [
    {
     "data": {
      "text/plain": [
       "array([5, 6])"
      ]
     },
     "execution_count": 83,
     "metadata": {},
     "output_type": "execute_result"
    }
   ],
   "source": [
    "a = np.array([[1,2],[3,4],[5,6]])\n",
    "a[a > 4] # 내부조건을 만족하는 행렬 인덱싱"
   ]
  },
  {
   "cell_type": "code",
   "execution_count": 109,
   "id": "c06085b4-1fa1-4313-a7e4-fb5ce47d9bb7",
   "metadata": {},
   "outputs": [],
   "source": [
    "#실습1(1~5번)"
   ]
  },
  {
   "cell_type": "code",
   "execution_count": 150,
   "id": "3bc6a1e3-85ea-48b2-8667-5cd86df948cd",
   "metadata": {},
   "outputs": [
    {
     "name": "stdout",
     "output_type": "stream",
     "text": [
      "[0. 0. 0. 0. 0. 0. 0. 0. 0. 0.]\n",
      "[0. 0. 0. 0. 1. 0. 0. 0. 0. 0.]\n",
      "[10 11 12 13 14 15 16 17 18 19 20 21 22 23 24 25 26 27 28 29 30]\n",
      "[[34 46]\n",
      " [47 95]]\n",
      "[[0.31888157 0.58600159 0.06742315 0.7906237 ]\n",
      " [0.29138711 0.52253935 0.66144458 0.84017028]]\n"
     ]
    }
   ],
   "source": [
    "a = np.zeros(10)\n",
    "print(np.zeros(10))\n",
    "a[4] = 1\n",
    "print(a)\n",
    "c = np.arange(10,31,1)\n",
    "print(c)\n",
    "d = np.random.randint(100,size = (2,2))\n",
    "print(d)\n",
    "e = np.random.rand(2,4)\n",
    "print(e)"
   ]
  },
  {
   "cell_type": "code",
   "execution_count": 110,
   "id": "14a3db41-23ed-41f5-97ad-8da2530b8bf3",
   "metadata": {},
   "outputs": [],
   "source": [
    "#실습2(6~8번)"
   ]
  },
  {
   "cell_type": "code",
   "execution_count": 161,
   "id": "3aa5f161-76e9-4b57-b2de-ac8fe0868d23",
   "metadata": {},
   "outputs": [
    {
     "name": "stdout",
     "output_type": "stream",
     "text": [
      "[35 36 37 38 39 40 41 42 43 44 45 46 47 48 49 50 51 52 53 54 55 56 57 58\n",
      " 59 60 61 62 63 64 65 66 67 68 69 70 71 72 73 74]\n",
      "[[35 36 37 38]\n",
      " [39 40 41 42]\n",
      " [43 44 45 46]\n",
      " [47 48 49 50]\n",
      " [51 52 53 54]\n",
      " [55 56 57 58]\n",
      " [59 60 61 62]\n",
      " [63 64 65 66]\n",
      " [67 68 69 70]\n",
      " [71 72 73 74]]\n",
      "[[71 72 73 74]\n",
      " [67 68 69 70]\n",
      " [63 64 65 66]\n",
      " [59 60 61 62]\n",
      " [55 56 57 58]\n",
      " [51 52 53 54]\n",
      " [47 48 49 50]\n",
      " [43 44 45 46]\n",
      " [39 40 41 42]\n",
      " [35 36 37 38]]\n",
      "[[41 42]\n",
      " [45 46]\n",
      " [49 50]\n",
      " [53 54]\n",
      " [57 58]\n",
      " [61 62]\n",
      " [65 66]\n",
      " [69 70]]\n"
     ]
    }
   ],
   "source": [
    "a = np.arange(35,75,1)\n",
    "print(a)\n",
    "b = a.reshape(10,4)\n",
    "print(b)\n",
    "c = np.flip(b,axis = 0)\n",
    "print(c)\n",
    "print(b[1:-1 , 2:])\n"
   ]
  },
  {
   "cell_type": "code",
   "execution_count": 135,
   "id": "5c0ba00e-acb9-4942-b423-a5cf51c55984",
   "metadata": {},
   "outputs": [],
   "source": [
    "#실습3(9~11번)"
   ]
  },
  {
   "cell_type": "code",
   "execution_count": 166,
   "id": "f512da8f-ce55-4f1f-9e33-99ad111be06a",
   "metadata": {},
   "outputs": [
    {
     "name": "stdout",
     "output_type": "stream",
     "text": [
      "[38 42 46 50 54 58 62 66 70 74]\n",
      "[[38]\n",
      " [42]\n",
      " [46]\n",
      " [50]\n",
      " [54]\n",
      " [58]\n",
      " [62]\n",
      " [66]\n",
      " [70]\n",
      " [74]]\n",
      "[[74]\n",
      " [70]\n",
      " [66]\n",
      " [62]\n",
      " [58]\n",
      " [54]\n",
      " [50]\n",
      " [46]\n",
      " [42]\n",
      " [38]]\n",
      "[[25 10 42 18 10 43]\n",
      " [15 30 46  9 38 18]\n",
      " [50 31 22 36 14 13]\n",
      " [36  6 24 40 17  9]\n",
      " [ 1 42 21  2  3  3]]\n",
      "[10 42 18 10 30 46 38 18 50 22 36 14 36  6 24 40 42  2]\n"
     ]
    }
   ],
   "source": [
    "c = b[:,-1]\n",
    "print(c)\n",
    "d = b[:, -1:]\n",
    "print(d)\n",
    "e = np.flip(d, axis = 0)\n",
    "print(e)\n",
    "f = np.random.randint(1,51,size = (5,6))\n",
    "print(f)\n",
    "g =f[f % 2 == 0]\n",
    "print(g)\n"
   ]
  },
  {
   "cell_type": "code",
   "execution_count": null,
   "id": "23d42d3c-d170-4934-af08-175e800c1d26",
   "metadata": {},
   "outputs": [],
   "source": []
  }
 ],
 "metadata": {
  "kernelspec": {
   "display_name": "Python 3 (ipykernel)",
   "language": "python",
   "name": "python3"
  },
  "language_info": {
   "codemirror_mode": {
    "name": "ipython",
    "version": 3
   },
   "file_extension": ".py",
   "mimetype": "text/x-python",
   "name": "python",
   "nbconvert_exporter": "python",
   "pygments_lexer": "ipython3",
   "version": "3.10.9"
  }
 },
 "nbformat": 4,
 "nbformat_minor": 5
}
